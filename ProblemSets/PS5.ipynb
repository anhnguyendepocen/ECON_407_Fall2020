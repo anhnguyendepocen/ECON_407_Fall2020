{
 "cells": [
  {
   "cell_type": "markdown",
   "metadata": {},
   "source": [
    "# Problem Set 5"
   ]
  },
  {
   "cell_type": "code",
   "execution_count": 2,
   "metadata": {},
   "outputs": [],
   "source": [
    "import numpy as np\n",
    "import matplotlib.pyplot as plt\n",
    "import scipy.stats as stats\n",
    "%matplotlib inline"
   ]
  },
  {
   "cell_type": "markdown",
   "metadata": {},
   "source": [
    "Consider an income fluctuation problem similar to what we have in class. The agent receives a exogenous stochastic income $y$ every period where $y$ follows a Markov process. Moreover, she can choose how much asset that she will bring into the next period. Therefore, we can formulate the agent's Bellman equation as\n",
    "\n",
    "$$\n",
    "\\begin{align*}\n",
    " & \\max\\sum_{t=0}^{\\infty}\\beta^{t}u\\left(c_{t}\\right)\\\\\n",
    "\\text{s.t.} & c_{t}+a_{t+1}\\leqslant y_{t}+Ra_{t}\n",
    "\\end{align*}\n",
    "$$\n",
    "\n",
    "For the benchmark model, we assume the following parameter values: $\\beta = 0.96$, $R = 1.01$.\n",
    "We also assume that the households just use a CRRA preference: $u(c)=\\frac{c^{1-\\gamma}}{1-\\gamma}$, where $\\gamma = 1.5$.\n",
    "\n",
    "For the endowment process, we assume that $y$ is Markov, and $y$ could take 3 values: $y=\\left[0.0, 0.25, 0.5\\right]$. The Markov transition matrix for $y$ is\n",
    "\n",
    "$$\n",
    "\\left[\\begin{array}{ccc}\n",
    "0.7 & 0.2 & 0.1\\\\\n",
    "0.15 & 0.7 & 0.15\\\\\n",
    "0.1 & 0.2 & 0.7\n",
    "\\end{array}\\right]\n",
    "$$"
   ]
  },
  {
   "cell_type": "markdown",
   "metadata": {},
   "source": [
    "## Q1 Solve a less constrained model\n",
    "\n",
    "We set a capital grid $a\\in\\left[0.01,8.0\\right]$ (you can divide the interval into a grid with 1000 evenly spaced points). This means the lowest asset position that the agents can take is $0.01$, which means we have a borrowing constraint $a_{t+1}\\geqslant 0.01$.\n",
    "\n",
    "Solve the model, and plot the consumption decision functions conditional on the combination of current asset position and endowment level.\n",
    "\n",
    "**Use your own words to explain/summarize what you have found.**"
   ]
  },
  {
   "cell_type": "markdown",
   "metadata": {},
   "source": [
    "## Q2 Solve a more constrained model\n",
    "\n",
    "Now we change the capital grid into $a\\in\\left[2.0,8.0\\right]$. This implies that the lowest capital point that the agent can choose is $2.0$, which means the \"borrowing constraint\" is tighter for her.\n",
    "\n",
    "Solve this model and compare the consumption functions with what you got from the last question. **Use your own words to describe the difference between these two.**"
   ]
  },
  {
   "cell_type": "markdown",
   "metadata": {},
   "source": [
    "## Q3 Stochastic Discount Factor\n",
    "\n",
    "Consider one agent with asset $3.0$ who currently also receive an endowment $0.25$. Compute the stochastic discount factor for the two economies above, and compare them:\n",
    "\n",
    "1. Notice that the endowment may have 3 realizations next period, so the stochastic discount factor may take three different values in either of the two economies above;\n",
    "2. Describe your observations while comparing these two sets of results (3 numbers vs another set of 3 numbers);\n",
    "3. Guess what does that mean for asset pricing, and try to rationalize it with some economic intuition"
   ]
  }
 ],
 "metadata": {
  "kernelspec": {
   "display_name": "Python 3",
   "language": "python",
   "name": "python3"
  },
  "language_info": {
   "codemirror_mode": {
    "name": "ipython",
    "version": 3
   },
   "file_extension": ".py",
   "mimetype": "text/x-python",
   "name": "python",
   "nbconvert_exporter": "python",
   "pygments_lexer": "ipython3",
   "version": "3.7.7"
  }
 },
 "nbformat": 4,
 "nbformat_minor": 4
}
