{
 "cells": [
  {
   "cell_type": "markdown",
   "metadata": {},
   "source": [
    "# Problem Set 2\n",
    "\n",
    "Note: since all of you guys are using Python and Jupyter notebook, this problem set is to get yourselves more familiar with Python programming."
   ]
  },
  {
   "cell_type": "markdown",
   "metadata": {},
   "source": [
    "## Q1: Net Present Value\n",
    "\n",
    "If an asset pays a stream of payoffs over multiple time periods, then we\n",
    "can use a discount rate to calculate the value to the consumer of a entire\n",
    "sequence of payoffs.\n",
    "\n",
    "Most generally, we enumerate each discrete time period (e.g. year, month, day) by\n",
    "the index $ t $ where today is $ t=0 $ and the asset lives for $ T $\n",
    "periods, or infinite periods.\n",
    "\n",
    "List the payoff at each time period as $ y_t $,  which we will assume, for\n",
    "now, is known in advance.\n",
    "\n",
    "Then if the discount factor is $ r \\geq 0 $, the consumer “values” the\n",
    "payoff $ y_t $ delivered at time $ t $ as $ \\frac{1}{(1+r)^t}y_t $\n",
    "where we note that if $ t=0 $, the value is just the current payoff\n",
    "$ y_0 $.\n",
    "\n",
    "Using this logic, we can write an expression for the value of the entire\n",
    "sequence of payoffs with a sum.\n",
    "\n",
    "\n",
    "$$\n",
    "P_0 = \\sum_{t=0}^T \\left(\\frac{1}{1 + r}\\right)^t y_t\n",
    "$$\n",
    "\n",
    "For the rest of the example, we assume $r=0.01$."
   ]
  },
  {
   "cell_type": "markdown",
   "metadata": {},
   "source": [
    "### Q1.1\n",
    "Suppose we have a stock that distributes 1 dollar dividend for every 3 periods (0, 3, 6, 9, ...) up to $T=500$, what's the NPV of it?"
   ]
  },
  {
   "cell_type": "code",
   "execution_count": null,
   "metadata": {},
   "outputs": [],
   "source": []
  },
  {
   "cell_type": "markdown",
   "metadata": {},
   "source": [
    "### Q1.2\n",
    "Suppose we have a stock that distributes 1 dollar dividend for every even period (0, 2, 4, 6, ...) and distributes 0.8 dollar dividend for every odd period (1, 3, 5, 7, ...) up to $T=500$, what's the NPV of it?"
   ]
  },
  {
   "cell_type": "code",
   "execution_count": null,
   "metadata": {},
   "outputs": [],
   "source": []
  },
  {
   "cell_type": "markdown",
   "metadata": {},
   "source": [
    "### Q1.3\n",
    "Suppose there's an investment possibility. We can choose 1) to invest 5 dollar for all $t=0,1,\\ldots,100$, and receive 1 dollar for all $t = 101, 102, \\ldots, 500$, or 2) just walk away. Which option should we choose? Should we take this opportunity?"
   ]
  },
  {
   "cell_type": "code",
   "execution_count": null,
   "metadata": {},
   "outputs": [],
   "source": []
  },
  {
   "cell_type": "markdown",
   "metadata": {},
   "source": [
    "### Q1.4\n",
    "Suppose we have a stock that distribute some dividend that geometrically decay with $\\delta = 0.8$, i.e., it pays back 1 dollar at period 0, 0.8 dollar at period 1, 0.64 dollar at period 2, ... up to $T=500$, what's the NPV?"
   ]
  },
  {
   "cell_type": "code",
   "execution_count": null,
   "metadata": {},
   "outputs": [],
   "source": []
  },
  {
   "cell_type": "markdown",
   "metadata": {},
   "source": [
    "## Q2: Transition Dynamics of a Markov Process\n",
    "We continue what we did in PS1, and think about a sudden, permanent change in the transition matrix. This can be treated as an exogenous policy change from the government.\n",
    "\n",
    "The Markov matrix that we had in PS1 was\n",
    "\n",
    "$$\n",
    "P_1 = \\left(\\begin{array}{ccc}\n",
    "1-\\alpha-\\beta & \\alpha & \\beta\\\\\n",
    "\\gamma & 1-\\gamma & 0\\\\\n",
    "\\delta & \\epsilon & 1-\\delta-\\epsilon\n",
    "\\end{array}\\right)\n",
    "$$\n",
    "\n",
    "where $\\alpha = 0.4, \\beta = 0.1, \\gamma = 0.2, \\delta = 0.1, \\epsilon = 0.001$. Now, we consider a government policy that's going to provide some funding for free job training classes, hence the probability that Unemployed become Employed would increase to $\\alpha = 0.5$. However, to finance this policy, the government have to increase the tax rate of the firms, which increases job firing, and the probability that Employed guys become Unemployed is now $\\gamma = 0.3$."
   ]
  },
  {
   "cell_type": "markdown",
   "metadata": {},
   "source": [
    "### Q2.1\n",
    "Formulate the new transition matrix $P_2$ after the policy change."
   ]
  },
  {
   "cell_type": "code",
   "execution_count": null,
   "metadata": {},
   "outputs": [],
   "source": []
  },
  {
   "cell_type": "markdown",
   "metadata": {},
   "source": [
    "### Q2.2\n",
    "Compute the old stationary distribution and the new stationary distribution, denoted as $\\psi_{1}$ and $\\psi_{2}$. What do you find?"
   ]
  },
  {
   "cell_type": "code",
   "execution_count": null,
   "metadata": {},
   "outputs": [],
   "source": []
  },
  {
   "cell_type": "markdown",
   "metadata": {},
   "source": [
    "### Q2.3\n",
    "Assume the economy starts at the previous stationary distribution $\\psi_{1}$. Time period is discrete and it starts from 0. Suppose the government policy takes place at period 4, i.e., the transitions between 0-1, 1-2, 2-3, 3-4 follow $P_{1}$, and the transition follows $P_{2}$ afterwards.\n",
    "\n",
    "Plot the evolution of these three states for $t=1, 2, \\ldots, 40$"
   ]
  },
  {
   "cell_type": "code",
   "execution_count": null,
   "metadata": {},
   "outputs": [],
   "source": []
  }
 ],
 "metadata": {
  "kernelspec": {
   "display_name": "Python 3",
   "language": "python",
   "name": "python3"
  },
  "language_info": {
   "codemirror_mode": {
    "name": "ipython",
    "version": 3
   },
   "file_extension": ".py",
   "mimetype": "text/x-python",
   "name": "python",
   "nbconvert_exporter": "python",
   "pygments_lexer": "ipython3",
   "version": "3.7.7"
  }
 },
 "nbformat": 4,
 "nbformat_minor": 4
}
