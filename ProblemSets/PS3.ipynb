{
 "cells": [
  {
   "cell_type": "markdown",
   "metadata": {},
   "source": [
    "# Problem Set 3"
   ]
  },
  {
   "cell_type": "code",
   "execution_count": 1,
   "metadata": {},
   "outputs": [],
   "source": [
    "import numpy as np\n",
    "import matplotlib.pyplot as plt\n",
    "import scipy.stats as stats\n",
    "%matplotlib inline"
   ]
  },
  {
   "cell_type": "markdown",
   "metadata": {},
   "source": [
    "## Q1: Comparative Statics of the Basic McCall Model\n",
    "\n",
    "For this question, we consider the plain-vanilla McCall Model that we covered in class:\n",
    "\n",
    "- Time period is discrete, and the economic agents live forever.\n",
    "- An unemployed agent receives in each period a job offer at wage $w$. The wage is a function of some underlying state $s$, i.e., $w(s)$.\n",
    "- Assume there are $n$ states. $s$ is i.i.d. over time, with $q(s)$ being the probability mass function over the states.\n",
    "- The unemployed agent observes the state $s$ at the beginning of each time period. She can choose whether to accept the wage offer or reject it.\n",
    "    - If she accepts the offer, she will receive the same amount forever.\n",
    "    - If she rejects the offer, she will receive an unemployment benefit $c$ in this period.\n",
    "- The economic agents, either unemployed or employed, discount future earnings with a discount rate $\\beta$.\n",
    "\n",
    "As we discussed in previous classes, the value function of a currently unemployed agent, $v(s)$, is the solution to the following Bellman equation,\n",
    "\n",
    "$$\n",
    "V\\left(s\\right)=\\max\\left\\{ \\frac{w\\left(s\\right)}{1-\\beta},c+\\beta\\sum_{s'\\in\\mathbb{S}}V\\left(s'\\right)q\\left(s'\\right)\\right\\}\n",
    "$$\n",
    "\n",
    "For the default parameter values and settings we use the same ones covered in the previous classes."
   ]
  },
  {
   "cell_type": "code",
   "execution_count": 2,
   "metadata": {},
   "outputs": [],
   "source": [
    "# Preparations and parameterization\n",
    "n, a, b = 51, 200, 100                        # default parameters\n",
    "q_default = stats.betabinom(n, a, b).pmf      # probability mass function\n",
    "\n",
    "w_min, w_max = 10, 60\n",
    "w_default = np.linspace(w_min, w_max, n)\n",
    "q_grid = q_default(w_default)\n",
    "\n",
    "c = 25       # Unemployment benefit\n",
    "beta = 0.99  # Discount factor"
   ]
  },
  {
   "cell_type": "markdown",
   "metadata": {},
   "source": [
    "### Q1.1 (A free lunch for you all) Solve the benchmark model\n",
    "\n",
    "Solve $V(s)$ and plot it. (Note: you only need to plot the converged solution). Describe the optimal policy function in your own words: when will an unemployed agent choose to receive the offer, and when she will reject it?"
   ]
  },
  {
   "cell_type": "code",
   "execution_count": null,
   "metadata": {},
   "outputs": [],
   "source": []
  },
  {
   "cell_type": "markdown",
   "metadata": {},
   "source": [
    "### Q1.2 Comparative Statics on the Reservation Wage\n",
    "\n",
    "The indifference point that the economic agent choose to accept or to reject the offer is called the **reservation wage**.\n",
    "\n",
    "Create a grid with 100 evenly spaced elements for beta that varies between 0.9 and 0.99. Solve the model holding all the other parameters the same, and plot the reservation wage as a function of beta (i.e., with beta on the horizontal axis and reservation wage on the vertical axis). What do you find? Can you explain it with economic intuition?\n",
    "\n",
    "Now, hold beta and other parameters the same as before, but create a grid with 100 evenly spaced elements for c between 10.0 and 30.0. Then answer the same questions above: plot the reservation wage as a function of c, describe what you find, and try to explain the economic intuition behind."
   ]
  },
  {
   "cell_type": "code",
   "execution_count": null,
   "metadata": {},
   "outputs": [],
   "source": []
  },
  {
   "cell_type": "markdown",
   "metadata": {},
   "source": [
    "## Q2 McCall Model with Desperate Unemployed Job Seekers\n",
    "\n",
    "*Try first thyself, and after call in God; For to the worker God himself lends aid.  -- Euripedes, \"Hippolytus\"*\n",
    "\n",
    "Assume there are three types of agents in this economy: the Employed (E), the Unemployed (U), and the Desperate (D).\n",
    "\n",
    "- Time period is discrete, and the economic agents live forever. The discount factor $\\beta$ is common across all the agents.\n",
    "- A Desperate (D) agent will receive an unemployment benefit $c$ every period. She might regain some courage to enter the job market: Type (D) will become the Unemployed (U) with a probability $\\alpha$, and will remain Desperate (D) with probability $1-\\alpha$.\n",
    "- An Unemployed (U) agent receives in each period a job offer at wage $w(s)$ depend on the underlying state $s$. Assume there are $n$ states. $s$ is i.i.d. over time, with $q(s)$ being the probability mass function over the states:\n",
    "    - This Unemployed (U) agent can choose to accept the offer she receives, or to reject the offer.\n",
    "    - If she accepts the offer, she becomes Employed (E) and receive the same wage forever, starting from the current period.\n",
    "    - If she rejects the offer, she will receive an unemployment benefit $c$ for the current period, and will become Desperate (D) next with a probability $\\gamma$ or remain Unemployed (U) with a probability $1 - \\gamma$."
   ]
  },
  {
   "cell_type": "markdown",
   "metadata": {},
   "source": [
    "### Q2.1 Bellman Equation\n",
    "\n",
    "Write down the Bellman equation for the Desperate (D) and the Unemployed (U) agents. The value functions are denoted as $V^{D}$ and $V^{U}$ respectively."
   ]
  },
  {
   "cell_type": "code",
   "execution_count": null,
   "metadata": {},
   "outputs": [],
   "source": []
  },
  {
   "cell_type": "markdown",
   "metadata": {},
   "source": [
    "### Q2.2 Solve the Model\n",
    "\n",
    "We use the same parameterization as Q1, with additional assumptions: $\\alpha = 0.1$ and $\\gamma = 0.3$.\n",
    "\n",
    "Solve the value functions $V^D$ and $V^U$. (hint: notice that the value of Desperate type is the same across all the states. However, the value of Unemployed type varies across the states.) Describe what you find, and try to explain the economic intuition behind."
   ]
  },
  {
   "cell_type": "code",
   "execution_count": 3,
   "metadata": {},
   "outputs": [],
   "source": [
    "# Preparations and parameterization\n",
    "n, a, b = 51, 200, 100                        # default parameters\n",
    "q_default = stats.betabinom(n, a, b).pmf      # probability mass function\n",
    "\n",
    "w_min, w_max = 10, 60\n",
    "w_default = np.linspace(w_min, w_max, n)\n",
    "q_grid = q_default(w_default)\n",
    "\n",
    "c = 25       # Unemployment benefit\n",
    "beta = 0.99  # Discount factor\n",
    "alpha = 0.1  # Transition probability from D to U\n",
    "gamma = 0.3  # Transition probability from U to D"
   ]
  },
  {
   "cell_type": "code",
   "execution_count": null,
   "metadata": {},
   "outputs": [],
   "source": []
  },
  {
   "cell_type": "markdown",
   "metadata": {},
   "source": [
    "### Q2.3 Comparative Statics\n",
    "\n",
    "Now we set $\\alpha = 0.5$, i.e., the Desperate type regains her confidence more easily. Solve the model. How do the solutions differ from Q2.2? How do the value function and the reservation wage change?"
   ]
  },
  {
   "cell_type": "code",
   "execution_count": null,
   "metadata": {},
   "outputs": [],
   "source": []
  },
  {
   "cell_type": "markdown",
   "metadata": {},
   "source": [
    "### Q2.4 (Bonus, 5 pts) Canada Emergency Response Benefit\n",
    "\n",
    "Due to COVID-19, a lot of firms/establishments freeze their hiring quota, hence making the unemployed guys easier to become more desperate. The Canadian government then (equivalently) increases the unemployment benefit (i.e., CERB) during this period. However, that means Canada faces a higher deficit in the future, and the Canadian government have to increase the taxes somehow to finance it.\n",
    "\n",
    "Suppose now $\\alpha = 0.1, \\gamma = 0.6, c = 30$. And there's a income tax rate $\\tau = 0.3$ on the wages. That is to say the employed workers can only receive $(1-\\tau)*w$ forever for some job offer with wage $w$.\n",
    "\n",
    "1. Solve the value function\n",
    "2. How does the reservation wage change? What does that imply?\n",
    "3. Why CERB might/might not be a good policy?"
   ]
  },
  {
   "cell_type": "code",
   "execution_count": null,
   "metadata": {},
   "outputs": [],
   "source": []
  }
 ],
 "metadata": {
  "kernelspec": {
   "display_name": "Python 3",
   "language": "python",
   "name": "python3"
  },
  "language_info": {
   "codemirror_mode": {
    "name": "ipython",
    "version": 3
   },
   "file_extension": ".py",
   "mimetype": "text/x-python",
   "name": "python",
   "nbconvert_exporter": "python",
   "pygments_lexer": "ipython3",
   "version": "3.7.7"
  }
 },
 "nbformat": 4,
 "nbformat_minor": 4
}
