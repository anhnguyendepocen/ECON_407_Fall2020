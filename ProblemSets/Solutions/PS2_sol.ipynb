{
 "cells": [
  {
   "cell_type": "markdown",
   "metadata": {},
   "source": [
    "# Problem Set 2\n",
    "\n",
    "Note: since all of you guys are using Python and Jupyter notebook, this problem set is to get yourselves more familiar with Python programming."
   ]
  },
  {
   "cell_type": "code",
   "execution_count": 2,
   "metadata": {},
   "outputs": [],
   "source": [
    "import numpy as np\n",
    "import matplotlib.pyplot as plt\n",
    "%matplotlib inline"
   ]
  },
  {
   "cell_type": "markdown",
   "metadata": {},
   "source": [
    "## Q1: Net Present Value\n",
    "\n",
    "If an asset pays a stream of payoffs over multiple time periods, then we\n",
    "can use a discount rate to calculate the value to the consumer of a entire\n",
    "sequence of payoffs.\n",
    "\n",
    "Most generally, we enumerate each discrete time period (e.g. year, month, day) by\n",
    "the index $ t $ where today is $ t=0 $ and the asset lives for $ T $\n",
    "periods, or infinite periods.\n",
    "\n",
    "List the payoff at each time period as $ y_t $,  which we will assume, for\n",
    "now, is known in advance.\n",
    "\n",
    "Then if the discount factor is $ r \\geq 0 $, the consumer “values” the\n",
    "payoff $ y_t $ delivered at time $ t $ as $ \\frac{1}{(1+r)^t}y_t $\n",
    "where we note that if $ t=0 $, the value is just the current payoff\n",
    "$ y_0 $.\n",
    "\n",
    "Using this logic, we can write an expression for the value of the entire\n",
    "sequence of payoffs with a sum.\n",
    "\n",
    "\n",
    "$$\n",
    "P_0 = \\sum_{t=0}^T \\left(\\frac{1}{1 + r}\\right)^t y_t\n",
    "$$\n",
    "\n",
    "For the rest of the example, we assume $r=0.01$."
   ]
  },
  {
   "cell_type": "code",
   "execution_count": 2,
   "metadata": {},
   "outputs": [],
   "source": [
    "r = 0.01"
   ]
  },
  {
   "cell_type": "markdown",
   "metadata": {},
   "source": [
    "### Q1.1\n",
    "Suppose we have a stock that distributes 1 dollar dividend for every 3 periods (0, 3, 6, 9, ...) up to $T=500$, what's the NPV of it?"
   ]
  },
  {
   "cell_type": "code",
   "execution_count": 3,
   "metadata": {},
   "outputs": [
    {
     "name": "stdout",
     "output_type": "stream",
     "text": [
      "The NPV is 33.769670491319275\n"
     ]
    }
   ],
   "source": [
    "npv = 0\n",
    "T = 500\n",
    "\n",
    "for i in range(T + 1):\n",
    "    if (i % 3 == 0):\n",
    "        npv += 1 / ((1 + r) ** i)\n",
    "\n",
    "print(f\"The NPV is {npv}\")"
   ]
  },
  {
   "cell_type": "markdown",
   "metadata": {},
   "source": [
    "### Q1.2\n",
    "Suppose we have a stock that distributes 1 dollar dividend for every even period (0, 2, 4, 6, ...) and distributes 0.8 dollar dividend for every odd period (1, 3, 5, 7, ...) up to $T=500$, what's the NPV of it?"
   ]
  },
  {
   "cell_type": "code",
   "execution_count": 4,
   "metadata": {},
   "outputs": [
    {
     "name": "stdout",
     "output_type": "stream",
     "text": [
      "The NPV is 90.32892855045895\n"
     ]
    }
   ],
   "source": [
    "npv = 0\n",
    "T = 500\n",
    "\n",
    "for i in range(T + 1):\n",
    "    if (i % 2 == 0):\n",
    "        npv += 1 / ((1 + r) ** i)\n",
    "    else:\n",
    "        npv += 0.8 / ((1 + r) ** i)\n",
    "\n",
    "print(f\"The NPV is {npv}\")"
   ]
  },
  {
   "cell_type": "markdown",
   "metadata": {},
   "source": [
    "### Q1.3\n",
    "Suppose there's an investment possibility. We can choose 1) to invest 5 dollar for all $t=0,1,\\ldots,100$, and receive 1 dollar for all $t = 101, 102, \\ldots, 500$, or 2) just walk away. Which option should we choose? Should we take this opportunity?"
   ]
  },
  {
   "cell_type": "code",
   "execution_count": 5,
   "metadata": {},
   "outputs": [
    {
     "name": "stdout",
     "output_type": "stream",
     "text": [
      "The NPV is -283.8640102206571\n"
     ]
    }
   ],
   "source": [
    "npv = 0\n",
    "T = 500\n",
    "\n",
    "for i in range(T + 1):\n",
    "    if (i <= 100):\n",
    "        npv -= 5 / ((1 + r) ** i)\n",
    "    else:\n",
    "        npv += 1 / ((1 + r) ** i)\n",
    "\n",
    "print(f\"The NPV is {npv}\")"
   ]
  },
  {
   "cell_type": "markdown",
   "metadata": {},
   "source": [
    "Since the NPV is negative, the investment option is not good enough and we just walk away."
   ]
  },
  {
   "cell_type": "markdown",
   "metadata": {},
   "source": [
    "### Q1.4\n",
    "Suppose we have a stock that distribute some dividend that geometrically decays with $\\delta = 0.8$, i.e., it pays back 1 dollar at period 0, 0.8 dollar at period 1, 0.64 dollar at period 2, ... up to $T=500$, what's the NPV?"
   ]
  },
  {
   "cell_type": "code",
   "execution_count": 6,
   "metadata": {},
   "outputs": [
    {
     "name": "stdout",
     "output_type": "stream",
     "text": [
      "The NPV is 4.809523809523807\n"
     ]
    }
   ],
   "source": [
    "npv = 0\n",
    "T = 500\n",
    "\n",
    "cur_div = 1\n",
    "for i in range(T + 1):\n",
    "    npv += cur_div / ((1 + r) ** i)\n",
    "    cur_div *= 0.8\n",
    "\n",
    "print(f\"The NPV is {npv}\")"
   ]
  },
  {
   "cell_type": "markdown",
   "metadata": {},
   "source": [
    "## Q2: Transition Dynamics of a Markov Process\n",
    "We continue what we did in PS1, and think about a sudden, permanent change in the transition matrix. This can be treated as an exogenous policy change from the government.\n",
    "\n",
    "The Markov matrix that we had in PS1 was\n",
    "\n",
    "$$\n",
    "P_1 = \\left(\\begin{array}{ccc}\n",
    "1-\\alpha-\\beta & \\alpha & \\beta\\\\\n",
    "\\gamma & 1-\\gamma & 0\\\\\n",
    "\\delta & \\epsilon & 1-\\delta-\\epsilon\n",
    "\\end{array}\\right)\n",
    "$$\n",
    "\n",
    "where $\\alpha = 0.4, \\beta = 0.1, \\gamma = 0.2, \\delta = 0.1, \\epsilon = 0.001$. Now, we consider a government policy that's going to provide some funding for free job training classes, hence the probability that Unemployed become Employed would increase to $\\alpha = 0.5$. However, to finance this policy, the government have to increase the tax rate of the firms, which increases job firing, and the probability that Employed guys become Unemployed is now $\\gamma = 0.3$."
   ]
  },
  {
   "cell_type": "markdown",
   "metadata": {},
   "source": [
    "### Q2.1\n",
    "Formulate the new transition matrix $P_2$ after the policy change."
   ]
  },
  {
   "cell_type": "code",
   "execution_count": 10,
   "metadata": {},
   "outputs": [],
   "source": [
    "alpha = 0.4\n",
    "beta = 0.1\n",
    "gamma = 0.2\n",
    "epsilon = 0.001\n",
    "delta = 0.1\n",
    "\n",
    "# Construct the Markov matrix\n",
    "P1 = np.zeros((3, 3))\n",
    "P1[0, :] = [1 - alpha - beta, alpha, beta]\n",
    "P1[1, :] = [gamma, 1 - gamma, 0]\n",
    "P1[2, :] = [delta, epsilon, 1 - delta - epsilon]\n",
    "\n",
    "# Construct the new matrix\n",
    "gamma = 0.3\n",
    "alpha = 0.5\n",
    "P2 = np.zeros((3, 3))\n",
    "P2[0, :] = [1 - alpha - beta, alpha, beta]\n",
    "P2[1, :] = [gamma, 1 - gamma, 0]\n",
    "P2[2, :] = [delta, epsilon, 1 - delta - epsilon]"
   ]
  },
  {
   "cell_type": "markdown",
   "metadata": {},
   "source": [
    "### Q2.2\n",
    "Compute the old stationary distribution and the new stationary distribution, denoted as $\\psi_{1}$ and $\\psi_{2}$. What do you find?"
   ]
  },
  {
   "cell_type": "code",
   "execution_count": 11,
   "metadata": {},
   "outputs": [
    {
     "name": "stdout",
     "output_type": "stream",
     "text": [
      "[0.25030979 0.50185874 0.24783147]\n",
      "[0.27321912 0.45626691 0.27051398]\n"
     ]
    }
   ],
   "source": [
    "def stationary_distribution(P):\n",
    "    # Compute the stationary distribution\n",
    "    w, v = np.linalg.eig(P.T)\n",
    "    tmp = v[:, np.isclose(w, 1)][:, 0]\n",
    "    sta_dist = tmp / np.sum(tmp)\n",
    "    return sta_dist\n",
    "\n",
    "psi_1 = stationary_distribution(P1)\n",
    "psi_2 = stationary_distribution(P2)\n",
    "print(psi_1)\n",
    "print(psi_2)"
   ]
  },
  {
   "cell_type": "markdown",
   "metadata": {},
   "source": [
    "### Q2.3\n",
    "Assume the economy starts at the previous stationary distribution $\\psi_{1}$. Time period is discrete and it starts from 0. Suppose the government policy takes place at period 4, i.e., the transitions between 0-1, 1-2, 2-3, 3-4 follow $P_{1}$, and the transition follows $P_{2}$ afterwards.\n",
    "\n",
    "Plot the evolution of these three states for $t=1, 2, \\ldots, 40$"
   ]
  },
  {
   "cell_type": "code",
   "execution_count": 12,
   "metadata": {},
   "outputs": [],
   "source": [
    "def Markov_simulation_dist(P, ini_dist, T):\n",
    "    n = len(ini_dist)\n",
    "    res = np.zeros((T, n)) # initialize the result\n",
    "    res[0, :] = ini_dist # starting point\n",
    "    for i in range(T - 1):\n",
    "        res[i + 1, :] = res[i, :] @ P\n",
    "        \n",
    "    return res"
   ]
  },
  {
   "cell_type": "code",
   "execution_count": 18,
   "metadata": {},
   "outputs": [],
   "source": [
    "res = Markov_simulation_dist(P2, psi_1, 36)\n",
    "res_extended = np.zeros((40, 3))\n",
    "res_extended[4:, :] = res\n",
    "for i in range(4):\n",
    "    res_extended[i, :] = psi_1"
   ]
  },
  {
   "cell_type": "code",
   "execution_count": 20,
   "metadata": {},
   "outputs": [
    {
     "data": {
      "text/plain": [
       "[<matplotlib.lines.Line2D at 0x229f69cb348>,\n",
       " <matplotlib.lines.Line2D at 0x229f69cb6c8>,\n",
       " <matplotlib.lines.Line2D at 0x229f69cba88>]"
      ]
     },
     "execution_count": 20,
     "metadata": {},
     "output_type": "execute_result"
    },
    {
     "data": {
      "image/png": "[encoded data removed]",
      "text/plain": [
       "<Figure size 720x432 with 1 Axes>"
      ]
     },
     "metadata": {
      "needs_background": "light"
     },
     "output_type": "display_data"
    }
   ],
   "source": [
    "plt.figure(figsize = (10, 6))\n",
    "plt.plot(res_extended)"
   ]
  }
 ],
 "metadata": {
  "kernelspec": {
   "display_name": "Python 3",
   "language": "python",
   "name": "python3"
  },
  "language_info": {
   "codemirror_mode": {
    "name": "ipython",
    "version": 3
   },
   "file_extension": ".py",
   "mimetype": "text/x-python",
   "name": "python",
   "nbconvert_exporter": "python",
   "pygments_lexer": "ipython3",
   "version": "3.7.7"
  }
 },
 "nbformat": 4,
 "nbformat_minor": 4
}
