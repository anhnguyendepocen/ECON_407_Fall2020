{
 "cells": [
  {
   "cell_type": "markdown",
   "metadata": {},
   "source": [
    "# Borrowing Constraint\n",
    "\n",
    "Last update: Nov 12th, 2020"
   ]
  },
  {
   "cell_type": "code",
   "execution_count": 3,
   "metadata": {},
   "outputs": [],
   "source": [
    "import numpy as np\n",
    "import matplotlib.pyplot as plt\n",
    "import scipy.stats as stats\n",
    "%matplotlib inline"
   ]
  },
  {
   "cell_type": "code",
   "execution_count": 4,
   "metadata": {},
   "outputs": [],
   "source": [
    "# Parameterization\n",
    "beta = 0.96\n",
    "R = 1.01\n",
    "gamma = 2.0"
   ]
  },
  {
   "cell_type": "code",
   "execution_count": 5,
   "metadata": {},
   "outputs": [],
   "source": [
    "# Assume the log of income is an AR(1) process, discretized by Tauchen method\n",
    "rho = 0.8\n",
    "sigma = 0.1\n",
    "m = 3\n",
    "N = 15\n",
    "\n",
    "def Tauchen(rho, sigma, m, N):\n",
    "    y_N = m * np.sqrt(sigma ** 2 / (1 - rho ** 2))\n",
    "    y_grid = np.linspace(-y_N, y_N, N)\n",
    "    d = 2 * y_N / (N - 1)\n",
    "    F = stats.norm().cdf\n",
    "    \n",
    "    Pi = np.zeros((N, N))\n",
    "    for i in range(N):\n",
    "        for j in range(N):\n",
    "            if (j == 0):\n",
    "                lb = 0.0\n",
    "            else:\n",
    "                lb = F((y_grid[j] - (d / 2) - rho * y_grid[i]) / sigma)\n",
    "                \n",
    "            if (j == N - 1):\n",
    "                rb = 1.0\n",
    "            else:\n",
    "                rb = F((y_grid[j] + (d / 2) - rho * y_grid[i]) / sigma)\n",
    "    \n",
    "            Pi[i, j] = rb - lb\n",
    "\n",
    "    return y_grid, Pi\n",
    "\n",
    "y_grid, Pi = Tauchen(rho, sigma, m, N)"
   ]
  },
  {
   "cell_type": "code",
   "execution_count": 7,
   "metadata": {},
   "outputs": [],
   "source": [
    "# Grid for savings\n",
    "\n",
    "n_k = 1000\n",
    "k_min = 0.0\n",
    "k_max = 20.0\n",
    "k_grid = np.linspace(k_min, k_max, n_k)"
   ]
  },
  {
   "cell_type": "code",
   "execution_count": 8,
   "metadata": {},
   "outputs": [],
   "source": [
    "def u_vec(c, gamma):\n",
    "    if (gamma == 1.0):\n",
    "        res = np.log(c)\n",
    "    else:\n",
    "        res = (c ** (1 - gamma)) / (1 - gamma)\n",
    "    \n",
    "    res[np.isnan(res)] = -1e10\n",
    "    \n",
    "    return res"
   ]
  },
  {
   "cell_type": "code",
   "execution_count": null,
   "metadata": {},
   "outputs": [],
   "source": []
  }
 ],
 "metadata": {
  "kernelspec": {
   "display_name": "Python 3",
   "language": "python",
   "name": "python3"
  },
  "language_info": {
   "codemirror_mode": {
    "name": "ipython",
    "version": 3
   },
   "file_extension": ".py",
   "mimetype": "text/x-python",
   "name": "python",
   "nbconvert_exporter": "python",
   "pygments_lexer": "ipython3",
   "version": "3.7.7"
  }
 },
 "nbformat": 4,
 "nbformat_minor": 4
}
