{
 "cells": [
  {
   "cell_type": "markdown",
   "metadata": {},
   "source": [
    "# CCAPM Pricing Example\n",
    "\n",
    "Last update: Nov 9th, 2020"
   ]
  },
  {
   "cell_type": "code",
   "execution_count": 1,
   "metadata": {},
   "outputs": [],
   "source": [
    "import numpy as np\n",
    "import matplotlib.pyplot as plt\n",
    "%matplotlib inline"
   ]
  },
  {
   "cell_type": "markdown",
   "metadata": {},
   "source": [
    "Consider the following example with $u\\left(c\\right)=\\ln\\left(c\\right), \\beta=0.96, y=\\left[1.5,1,0.5\\right]$ with a transition matrix\n",
    "$$\n",
    "\\Pi=\\left[\\begin{array}{ccc}\n",
    "0.5 & 0.25 & 0.25\\\\\n",
    "0.25 & 0.5 & 0.25\\\\\n",
    "0.25 & 0.25 & 0.5\n",
    "\\end{array}\\right]\n",
    "$$"
   ]
  },
  {
   "cell_type": "code",
   "execution_count": 2,
   "metadata": {},
   "outputs": [],
   "source": [
    "n = 3\n",
    "y_grid = np.array([1.5, 1, 0.5])\n",
    "Pi = np.array([[0.5, 0.25, 0.25], [0.25, 0.5, 0.25], [0.25, 0.25, 0.5]])\n",
    "beta = 0.96"
   ]
  },
  {
   "cell_type": "code",
   "execution_count": 3,
   "metadata": {},
   "outputs": [
    {
     "name": "stdout",
     "output_type": "stream",
     "text": [
      "[[0.96 1.44 2.88]\n",
      " [0.64 0.96 1.92]\n",
      " [0.32 0.48 0.96]]\n"
     ]
    }
   ],
   "source": [
    "# Compute the SDF\n",
    "\n",
    "m = np.zeros((n, n))\n",
    "for i in range(n):\n",
    "    for j in range(n):\n",
    "        m[i, j] = beta * y_grid[i] / y_grid[j] # the derivative of ln(x) is 1/x\n",
    "        \n",
    "# Print SDF\n",
    "print(m)"
   ]
  },
  {
   "cell_type": "code",
   "execution_count": 6,
   "metadata": {},
   "outputs": [
    {
     "name": "stdout",
     "output_type": "stream",
     "text": [
      "[[0.96       2.16       8.64      ]\n",
      " [0.42666667 0.96       3.84      ]\n",
      " [0.10666667 0.24       0.96      ]]\n"
     ]
    }
   ],
   "source": [
    "m = np.zeros((n, n))\n",
    "for i in range(n):\n",
    "    for j in range(n):\n",
    "        m[i, j] = beta * ((y_grid[j] / y_grid[i]) ** -2) # the derivative of ln(x) is 1/x\n",
    "        \n",
    "# Print SDF\n",
    "print(m)"
   ]
  },
  {
   "cell_type": "code",
   "execution_count": 5,
   "metadata": {},
   "outputs": [
    {
     "name": "stdout",
     "output_type": "stream",
     "text": [
      "Convergence happens after 573 periods\n",
      "[36. 24. 12.]\n"
     ]
    }
   ],
   "source": [
    "# Start the iteration\n",
    "\n",
    "T = 1000\n",
    "P = np.zeros((T, n))\n",
    "\n",
    "for i in range(T - 1):\n",
    "    for j in range(n):\n",
    "        P[i + 1, j] = np.dot(Pi[j, :], m[j, :] * (y_grid + P[i, :]))\n",
    "    if np.max(np.abs(P[i + 1, :] - P[i, :])) < 1e-10:\n",
    "        print(f\"Convergence happens after {i} periods\")\n",
    "        break\n",
    "\n",
    "# Print the prices\n",
    "print(P[i + 1, :])"
   ]
  },
  {
   "cell_type": "markdown",
   "metadata": {},
   "source": [
    "Alternatively, we can solve the equation system to see whether our solution is correct."
   ]
  },
  {
   "cell_type": "code",
   "execution_count": 26,
   "metadata": {},
   "outputs": [
    {
     "data": {
      "text/plain": [
       "array([36., 24., 12.])"
      ]
     },
     "execution_count": 26,
     "metadata": {},
     "output_type": "execute_result"
    }
   ],
   "source": [
    "coeff = np.eye(n) - Pi * m\n",
    "RHS = np.dot(Pi * m, y_grid)\n",
    "np.linalg.solve(coeff, RHS)"
   ]
  },
  {
   "cell_type": "markdown",
   "metadata": {},
   "source": [
    "Hence it seems that our solution is correct.\n",
    "\n",
    "Now we wrap it into a function and carry out some comparative statics."
   ]
  },
  {
   "cell_type": "code",
   "execution_count": 38,
   "metadata": {},
   "outputs": [],
   "source": [
    "def asset_price(beta, y_grid, Pi, gamma):\n",
    "    n = len(y_grid)\n",
    "    m = np.zeros((n, n))\n",
    "    for i in range(n):\n",
    "        for j in range(n):\n",
    "            m[i, j] = (y_grid[j] / y_grid[i]) ** (-gamma)\n",
    "    \n",
    "    T = 100000\n",
    "    P = np.zeros((T, n))\n",
    "\n",
    "    for i in range(T - 1):\n",
    "        for j in range(n):\n",
    "            P[i + 1, j] = beta * np.dot(Pi[j, :], m[j, :] * (y_grid + P[i, :]))\n",
    "        if np.max(np.abs(P[i + 1, :] - P[i, :])) < 1e-10:\n",
    "            print(f\"Convergence happens after {i} periods\")\n",
    "            break\n",
    "    \n",
    "    return P[i + 1, :]"
   ]
  },
  {
   "cell_type": "code",
   "execution_count": 39,
   "metadata": {},
   "outputs": [
    {
     "name": "stdout",
     "output_type": "stream",
     "text": [
      "Convergence happens after 573 periods\n",
      "[36. 24. 12.]\n",
      "Convergence happens after 588 periods\n",
      "[65.60526316 29.26315789  7.39473684]\n"
     ]
    }
   ],
   "source": [
    "print(asset_price(beta, y_grid, Pi, 1))\n",
    "print(asset_price(beta, y_grid, Pi, 2))"
   ]
  },
  {
   "cell_type": "markdown",
   "metadata": {},
   "source": [
    "Let's first try a set of $y$ grid that is less volatile than the previous example."
   ]
  },
  {
   "cell_type": "code",
   "execution_count": 40,
   "metadata": {},
   "outputs": [
    {
     "name": "stdout",
     "output_type": "stream",
     "text": [
      "Convergence happens after 573 periods\n",
      "[36. 24. 12.]\n",
      "Convergence happens after 588 periods\n",
      "[64.60169491 29.08474576  7.55084746]\n"
     ]
    }
   ],
   "source": [
    "Pi_new = np.array([[0.7, 0.15, 0.15], [0.15, 0.7, 0.15], [0.15, 0.15, 0.7]])\n",
    "\n",
    "print(asset_price(beta, y_grid, Pi_new, 1))\n",
    "print(asset_price(beta, y_grid, Pi_new, 2))"
   ]
  },
  {
   "cell_type": "code",
   "execution_count": 41,
   "metadata": {},
   "outputs": [
    {
     "name": "stdout",
     "output_type": "stream",
     "text": [
      "Convergence happens after 578 periods\n",
      "[43.2 24.   4.8]\n",
      "Convergence happens after 611 periods\n",
      "[168.25263158  52.07017544   2.13333333]\n"
     ]
    }
   ],
   "source": [
    "y_grid_new = [1.8, 1.0, 0.2]\n",
    "\n",
    "print(asset_price(beta, y_grid_new, Pi, 1))\n",
    "print(asset_price(beta, y_grid_new, Pi, 2))"
   ]
  }
 ],
 "metadata": {
  "kernelspec": {
   "display_name": "Python 3",
   "language": "python",
   "name": "python3"
  },
  "language_info": {
   "codemirror_mode": {
    "name": "ipython",
    "version": 3
   },
   "file_extension": ".py",
   "mimetype": "text/x-python",
   "name": "python",
   "nbconvert_exporter": "python",
   "pygments_lexer": "ipython3",
   "version": "3.7.7"
  }
 },
 "nbformat": 4,
 "nbformat_minor": 4
}
