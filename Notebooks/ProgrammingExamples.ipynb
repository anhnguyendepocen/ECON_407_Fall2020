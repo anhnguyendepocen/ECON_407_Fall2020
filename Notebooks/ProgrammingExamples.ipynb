{
 "cells": [
  {
   "cell_type": "markdown",
   "metadata": {},
   "source": [
    "# Basic Programming Examples\n",
    "\n",
    "Last update: Oct 6th, 2020\n",
    "\n",
    "NOTE: For pedagogical reasons we implement the examples below in a very basic way. Of course, there could be functions that are way more efficient, but we should learn the logic. If you are already familiar with coding then you can skip all these."
   ]
  },
  {
   "cell_type": "code",
   "execution_count": 8,
   "metadata": {},
   "outputs": [],
   "source": [
    "import numpy as np"
   ]
  },
  {
   "cell_type": "markdown",
   "metadata": {},
   "source": [
    "## Partial Sum\n",
    "\n",
    "### Q1\n",
    "\n",
    "Compute the sum of 1, 2, 3, ..., 100"
   ]
  },
  {
   "cell_type": "code",
   "execution_count": 2,
   "metadata": {},
   "outputs": [
    {
     "data": {
      "text/plain": [
       "[0, 1, 2, 3, 4]"
      ]
     },
     "execution_count": 2,
     "metadata": {},
     "output_type": "execute_result"
    }
   ],
   "source": [
    "list(range(5))"
   ]
  },
  {
   "cell_type": "code",
   "execution_count": 6,
   "metadata": {},
   "outputs": [
    {
     "name": "stdout",
     "output_type": "stream",
     "text": [
      "5050\n"
     ]
    }
   ],
   "source": [
    "res = 0\n",
    "for i in range(100):\n",
    "    # print(i)\n",
    "    res += (i + 1)\n",
    "\n",
    "print(res)"
   ]
  },
  {
   "cell_type": "markdown",
   "metadata": {},
   "source": [
    "### Q2\n",
    "For all $i = 1, 2, 3, \\ldots, 100$, compute $\\sum_{j=1}^i j$"
   ]
  },
  {
   "cell_type": "code",
   "execution_count": 13,
   "metadata": {},
   "outputs": [
    {
     "name": "stdout",
     "output_type": "stream",
     "text": [
      "the current index being enumerated is 1\n",
      "the previous partial sum is 1\n",
      "the current index being enumerated is 2\n",
      "the previous partial sum is 3\n",
      "the current index being enumerated is 3\n",
      "the previous partial sum is 6\n",
      "the current index being enumerated is 4\n",
      "the previous partial sum is 10\n"
     ]
    }
   ],
   "source": [
    "N = 5\n",
    "res = np.zeros(N, dtype = int)\n",
    "res[0] = 1\n",
    "for i in range(N):\n",
    "    if (i > 0):\n",
    "        print(\"the current index being enumerated is\", i)\n",
    "        print(\"the previous partial sum is\", res[i - 1])\n",
    "        res[i] = res[i - 1] + (i + 1)"
   ]
  },
  {
   "cell_type": "code",
   "execution_count": 12,
   "metadata": {},
   "outputs": [
    {
     "data": {
      "text/plain": [
       "array([   1,    3,    6,   10,   15,   21,   28,   36,   45,   55,   66,\n",
       "         78,   91,  105,  120,  136,  153,  171,  190,  210,  231,  253,\n",
       "        276,  300,  325,  351,  378,  406,  435,  465,  496,  528,  561,\n",
       "        595,  630,  666,  703,  741,  780,  820,  861,  903,  946,  990,\n",
       "       1035, 1081, 1128, 1176, 1225, 1275, 1326, 1378, 1431, 1485, 1540,\n",
       "       1596, 1653, 1711, 1770, 1830, 1891, 1953, 2016, 2080, 2145, 2211,\n",
       "       2278, 2346, 2415, 2485, 2556, 2628, 2701, 2775, 2850, 2926, 3003,\n",
       "       3081, 3160, 3240, 3321, 3403, 3486, 3570, 3655, 3741, 3828, 3916,\n",
       "       4005, 4095, 4186, 4278, 4371, 4465, 4560, 4656, 4753, 4851, 4950,\n",
       "       5050])"
      ]
     },
     "execution_count": 12,
     "metadata": {},
     "output_type": "execute_result"
    }
   ],
   "source": [
    "res"
   ]
  },
  {
   "cell_type": "markdown",
   "metadata": {},
   "source": [
    "### Q3\n",
    "For all $i = 1, 2, 3, \\ldots, 100$ compute $\\frac{1}{i}\\sum_{j=1}^{i} j$"
   ]
  },
  {
   "cell_type": "code",
   "execution_count": 15,
   "metadata": {},
   "outputs": [],
   "source": [
    "def partial_sum(N):\n",
    "    res = np.zeros(N)\n",
    "    for i in range(N):\n",
    "        if (i > 0):\n",
    "            res[i] = res[i - 1] + (i + 1)\n",
    "    return res\n",
    "\n",
    "res = partial_sum(100)\n",
    "for i in range(N):\n",
    "    res[i] = res[i] / (i + 1)"
   ]
  },
  {
   "cell_type": "markdown",
   "metadata": {},
   "source": [
    "## Simple Number Manipulations\n",
    "\n",
    "### Q1\n",
    "Reverse digits of an integer, i.e., 362 -> 263"
   ]
  },
  {
   "cell_type": "markdown",
   "metadata": {},
   "source": [
    "### Q2\n",
    "Determine whether an integer is a palindrome. An integer is a palindrome when it reads the same backward as forward. i.e., 100 -> false, 42524 -> true"
   ]
  },
  {
   "cell_type": "markdown",
   "metadata": {},
   "source": [
    "## Net Present Value\n",
    "\n",
    "If an asset pays a stream of payoffs over multiple time periods, then we\n",
    "can use a discount rate to calculate the value to the consumer of a entire\n",
    "sequence of payoffs.\n",
    "\n",
    "Most generally, we enumerate each discrete time period (e.g. year, month, day) by\n",
    "the index $ t $ where today is $ t=0 $ and the asset lives for $ T $\n",
    "periods, or infinite periods.\n",
    "\n",
    "List the payoff at each time period as $ y_t $,  which we will assume, for\n",
    "now, is known in advance.\n",
    "\n",
    "Then if the discount factor is $ r \\geq 0 $, the consumer “values” the\n",
    "payoff $ y_t $ delivered at time $ t $ as $ \\frac{1}{(1+r)^t}y_t $\n",
    "where we note that if $ t=0 $, the value is just the current payoff\n",
    "$ y_0 $.\n",
    "\n",
    "Using this logic, we can write an expression for the value of the entire\n",
    "sequence of payoffs with a sum.\n",
    "\n",
    "\n",
    "$$\n",
    "P_0 = \\sum_{t=0}^T \\left(\\frac{1}{1 + r}\\right)^t y_t\n",
    "$$\n",
    "\n",
    "For the rest of the example, we assume $r=0.01$."
   ]
  },
  {
   "cell_type": "markdown",
   "metadata": {},
   "source": [
    "### Q1\n",
    "Suppose we have a consol with face value 100 that pays back an interest 1 dollar every period up to $T=500$, and pays back the principal 100 in the last period, what's the NPV of it?"
   ]
  },
  {
   "cell_type": "code",
   "execution_count": 20,
   "metadata": {},
   "outputs": [
    {
     "data": {
      "text/plain": [
       "[0, 1, 2, 3, 4, 5]"
      ]
     },
     "execution_count": 20,
     "metadata": {},
     "output_type": "execute_result"
    }
   ],
   "source": [
    "list(range(5 + 1))"
   ]
  },
  {
   "cell_type": "code",
   "execution_count": 17,
   "metadata": {},
   "outputs": [],
   "source": [
    "r = 0.01\n",
    "T = 500\n",
    "\n",
    "NPV = 0\n",
    "for i in range(T + 1):\n",
    "    NPV = NPV + 1 / ((1 + r) ** i)\n",
    "\n",
    "NPV = NPV + 100 / ((1 + r) ** T)"
   ]
  },
  {
   "cell_type": "markdown",
   "metadata": {},
   "source": [
    "### Q2\n",
    "Suppose we have a stock that distributes 1 dollar dividend for every 3 periods (0, 3, 6, 9, ...) up to $T=500$, what's the NPV of it?"
   ]
  },
  {
   "cell_type": "markdown",
   "metadata": {},
   "source": [
    "### Q3\n",
    "Suppose there's an investment possibility. We can choose to invest 5 dollar for all $t=0,1,\\ldots,100$, and receive 1 dollar for all $t = 101, 102, \\ldots, 500$, or we just walk away. Should we take this opportunity?"
   ]
  }
 ],
 "metadata": {
  "kernelspec": {
   "display_name": "Python 3",
   "language": "python",
   "name": "python3"
  },
  "language_info": {
   "codemirror_mode": {
    "name": "ipython",
    "version": 3
   },
   "file_extension": ".py",
   "mimetype": "text/x-python",
   "name": "python",
   "nbconvert_exporter": "python",
   "pygments_lexer": "ipython3",
   "version": "3.7.7"
  }
 },
 "nbformat": 4,
 "nbformat_minor": 4
}
